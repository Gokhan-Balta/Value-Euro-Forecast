{
 "cells": [
  {
   "cell_type": "code",
   "execution_count": 16,
   "metadata": {},
   "outputs": [],
   "source": [
    "# İmport library\n",
    "import pandas as pd \n",
    "import numpy as np \n",
    "import seaborn as sns\n",
    "import matplotlib.pyplot as plt\n",
    "from sklearn.model_selection import train_test_split, GridSearchCV\n",
    "import xgboost as xgb\n",
    "from sklearn.metrics import root_mean_squared_error\n",
    "from sklearn.linear_model import LinearRegression \n",
    "from sklearn.ensemble import RandomForestRegressor  \n",
    "from sklearn.metrics import mean_squared_error\n",
    "from sklearn.model_selection import cross_val_score\n",
    "from sklearn.metrics import r2_score\n",
    "from xgboost import XGBRegressor\n",
    "import warnings\n"
   ]
  },
  {
   "cell_type": "code",
   "execution_count": 17,
   "metadata": {},
   "outputs": [],
   "source": [
    "warnings.filterwarnings(\"ignore\")"
   ]
  },
  {
   "cell_type": "code",
   "execution_count": 1,
   "metadata": {},
   "outputs": [],
   "source": [
    "import os\n",
    "import zipfile\n",
    "\n",
    "if not os.path.exists(\"football-players-data.zip\"):\n",
    "    !kaggle datasets download -d maso0dahmed/football-players-data\n",
    "    !unzip football-players-data.zip -d football_data\n"
   ]
  },
  {
   "cell_type": "code",
   "execution_count": 3,
   "metadata": {},
   "outputs": [],
   "source": [
    "#Define data\n",
    "data = pd.read_csv(\"football_data/fifa_players.csv\")"
   ]
  },
  {
   "cell_type": "code",
   "execution_count": 5,
   "metadata": {},
   "outputs": [
    {
     "name": "stdout",
     "output_type": "stream",
     "text": [
      "<class 'pandas.core.frame.DataFrame'>\n",
      "RangeIndex: 17954 entries, 0 to 17953\n",
      "Data columns (total 51 columns):\n",
      " #   Column                         Non-Null Count  Dtype  \n",
      "---  ------                         --------------  -----  \n",
      " 0   name                           17954 non-null  object \n",
      " 1   full_name                      17954 non-null  object \n",
      " 2   birth_date                     17954 non-null  object \n",
      " 3   age                            17954 non-null  int64  \n",
      " 4   height_cm                      17954 non-null  float64\n",
      " 5   weight_kgs                     17954 non-null  float64\n",
      " 6   positions                      17954 non-null  object \n",
      " 7   nationality                    17954 non-null  object \n",
      " 8   overall_rating                 17954 non-null  int64  \n",
      " 9   potential                      17954 non-null  int64  \n",
      " 10  value_euro                     17699 non-null  float64\n",
      " 11  wage_euro                      17708 non-null  float64\n",
      " 12  preferred_foot                 17954 non-null  object \n",
      " 13  international_reputation(1-5)  17954 non-null  int64  \n",
      " 14  weak_foot(1-5)                 17954 non-null  int64  \n",
      " 15  skill_moves(1-5)               17954 non-null  int64  \n",
      " 16  body_type                      17954 non-null  object \n",
      " 17  release_clause_euro            16117 non-null  float64\n",
      " 18  national_team                  857 non-null    object \n",
      " 19  national_rating                857 non-null    float64\n",
      " 20  national_team_position         857 non-null    object \n",
      " 21  national_jersey_number         857 non-null    float64\n",
      " 22  crossing                       17954 non-null  int64  \n",
      " 23  finishing                      17954 non-null  int64  \n",
      " 24  heading_accuracy               17954 non-null  int64  \n",
      " 25  short_passing                  17954 non-null  int64  \n",
      " 26  volleys                        17954 non-null  int64  \n",
      " 27  dribbling                      17954 non-null  int64  \n",
      " 28  curve                          17954 non-null  int64  \n",
      " 29  freekick_accuracy              17954 non-null  int64  \n",
      " 30  long_passing                   17954 non-null  int64  \n",
      " 31  ball_control                   17954 non-null  int64  \n",
      " 32  acceleration                   17954 non-null  int64  \n",
      " 33  sprint_speed                   17954 non-null  int64  \n",
      " 34  agility                        17954 non-null  int64  \n",
      " 35  reactions                      17954 non-null  int64  \n",
      " 36  balance                        17954 non-null  int64  \n",
      " 37  shot_power                     17954 non-null  int64  \n",
      " 38  jumping                        17954 non-null  int64  \n",
      " 39  stamina                        17954 non-null  int64  \n",
      " 40  strength                       17954 non-null  int64  \n",
      " 41  long_shots                     17954 non-null  int64  \n",
      " 42  aggression                     17954 non-null  int64  \n",
      " 43  interceptions                  17954 non-null  int64  \n",
      " 44  positioning                    17954 non-null  int64  \n",
      " 45  vision                         17954 non-null  int64  \n",
      " 46  penalties                      17954 non-null  int64  \n",
      " 47  composure                      17954 non-null  int64  \n",
      " 48  marking                        17954 non-null  int64  \n",
      " 49  standing_tackle                17954 non-null  int64  \n",
      " 50  sliding_tackle                 17954 non-null  int64  \n",
      "dtypes: float64(7), int64(35), object(9)\n",
      "memory usage: 7.0+ MB\n"
     ]
    }
   ],
   "source": [
    "#İnfo about data set \n",
    "data.info()"
   ]
  },
  {
   "cell_type": "code",
   "execution_count": 6,
   "metadata": {},
   "outputs": [
    {
     "data": {
      "text/html": [
       "<div>\n",
       "<style scoped>\n",
       "    .dataframe tbody tr th:only-of-type {\n",
       "        vertical-align: middle;\n",
       "    }\n",
       "\n",
       "    .dataframe tbody tr th {\n",
       "        vertical-align: top;\n",
       "    }\n",
       "\n",
       "    .dataframe thead th {\n",
       "        text-align: right;\n",
       "    }\n",
       "</style>\n",
       "<table border=\"1\" class=\"dataframe\">\n",
       "  <thead>\n",
       "    <tr style=\"text-align: right;\">\n",
       "      <th></th>\n",
       "      <th>name</th>\n",
       "      <th>full_name</th>\n",
       "      <th>birth_date</th>\n",
       "      <th>age</th>\n",
       "      <th>height_cm</th>\n",
       "      <th>weight_kgs</th>\n",
       "      <th>positions</th>\n",
       "      <th>nationality</th>\n",
       "      <th>overall_rating</th>\n",
       "      <th>potential</th>\n",
       "      <th>...</th>\n",
       "      <th>long_shots</th>\n",
       "      <th>aggression</th>\n",
       "      <th>interceptions</th>\n",
       "      <th>positioning</th>\n",
       "      <th>vision</th>\n",
       "      <th>penalties</th>\n",
       "      <th>composure</th>\n",
       "      <th>marking</th>\n",
       "      <th>standing_tackle</th>\n",
       "      <th>sliding_tackle</th>\n",
       "    </tr>\n",
       "  </thead>\n",
       "  <tbody>\n",
       "    <tr>\n",
       "      <th>0</th>\n",
       "      <td>L. Messi</td>\n",
       "      <td>Lionel Andrés Messi Cuccittini</td>\n",
       "      <td>6/24/1987</td>\n",
       "      <td>31</td>\n",
       "      <td>170.18</td>\n",
       "      <td>72.1</td>\n",
       "      <td>CF,RW,ST</td>\n",
       "      <td>Argentina</td>\n",
       "      <td>94</td>\n",
       "      <td>94</td>\n",
       "      <td>...</td>\n",
       "      <td>94</td>\n",
       "      <td>48</td>\n",
       "      <td>22</td>\n",
       "      <td>94</td>\n",
       "      <td>94</td>\n",
       "      <td>75</td>\n",
       "      <td>96</td>\n",
       "      <td>33</td>\n",
       "      <td>28</td>\n",
       "      <td>26</td>\n",
       "    </tr>\n",
       "    <tr>\n",
       "      <th>1</th>\n",
       "      <td>C. Eriksen</td>\n",
       "      <td>Christian  Dannemann Eriksen</td>\n",
       "      <td>2/14/1992</td>\n",
       "      <td>27</td>\n",
       "      <td>154.94</td>\n",
       "      <td>76.2</td>\n",
       "      <td>CAM,RM,CM</td>\n",
       "      <td>Denmark</td>\n",
       "      <td>88</td>\n",
       "      <td>89</td>\n",
       "      <td>...</td>\n",
       "      <td>89</td>\n",
       "      <td>46</td>\n",
       "      <td>56</td>\n",
       "      <td>84</td>\n",
       "      <td>91</td>\n",
       "      <td>67</td>\n",
       "      <td>88</td>\n",
       "      <td>59</td>\n",
       "      <td>57</td>\n",
       "      <td>22</td>\n",
       "    </tr>\n",
       "    <tr>\n",
       "      <th>2</th>\n",
       "      <td>P. Pogba</td>\n",
       "      <td>Paul Pogba</td>\n",
       "      <td>3/15/1993</td>\n",
       "      <td>25</td>\n",
       "      <td>190.50</td>\n",
       "      <td>83.9</td>\n",
       "      <td>CM,CAM</td>\n",
       "      <td>France</td>\n",
       "      <td>88</td>\n",
       "      <td>91</td>\n",
       "      <td>...</td>\n",
       "      <td>82</td>\n",
       "      <td>78</td>\n",
       "      <td>64</td>\n",
       "      <td>82</td>\n",
       "      <td>88</td>\n",
       "      <td>82</td>\n",
       "      <td>87</td>\n",
       "      <td>63</td>\n",
       "      <td>67</td>\n",
       "      <td>67</td>\n",
       "    </tr>\n",
       "    <tr>\n",
       "      <th>3</th>\n",
       "      <td>L. Insigne</td>\n",
       "      <td>Lorenzo Insigne</td>\n",
       "      <td>6/4/1991</td>\n",
       "      <td>27</td>\n",
       "      <td>162.56</td>\n",
       "      <td>59.0</td>\n",
       "      <td>LW,ST</td>\n",
       "      <td>Italy</td>\n",
       "      <td>88</td>\n",
       "      <td>88</td>\n",
       "      <td>...</td>\n",
       "      <td>84</td>\n",
       "      <td>34</td>\n",
       "      <td>26</td>\n",
       "      <td>83</td>\n",
       "      <td>87</td>\n",
       "      <td>61</td>\n",
       "      <td>83</td>\n",
       "      <td>51</td>\n",
       "      <td>24</td>\n",
       "      <td>22</td>\n",
       "    </tr>\n",
       "    <tr>\n",
       "      <th>4</th>\n",
       "      <td>K. Koulibaly</td>\n",
       "      <td>Kalidou Koulibaly</td>\n",
       "      <td>6/20/1991</td>\n",
       "      <td>27</td>\n",
       "      <td>187.96</td>\n",
       "      <td>88.9</td>\n",
       "      <td>CB</td>\n",
       "      <td>Senegal</td>\n",
       "      <td>88</td>\n",
       "      <td>91</td>\n",
       "      <td>...</td>\n",
       "      <td>15</td>\n",
       "      <td>87</td>\n",
       "      <td>88</td>\n",
       "      <td>24</td>\n",
       "      <td>49</td>\n",
       "      <td>33</td>\n",
       "      <td>80</td>\n",
       "      <td>91</td>\n",
       "      <td>88</td>\n",
       "      <td>87</td>\n",
       "    </tr>\n",
       "  </tbody>\n",
       "</table>\n",
       "<p>5 rows × 51 columns</p>\n",
       "</div>"
      ],
      "text/plain": [
       "           name                       full_name birth_date  age  height_cm  \\\n",
       "0      L. Messi  Lionel Andrés Messi Cuccittini  6/24/1987   31     170.18   \n",
       "1    C. Eriksen    Christian  Dannemann Eriksen  2/14/1992   27     154.94   \n",
       "2      P. Pogba                      Paul Pogba  3/15/1993   25     190.50   \n",
       "3    L. Insigne                 Lorenzo Insigne   6/4/1991   27     162.56   \n",
       "4  K. Koulibaly               Kalidou Koulibaly  6/20/1991   27     187.96   \n",
       "\n",
       "   weight_kgs  positions nationality  overall_rating  potential  ...  \\\n",
       "0        72.1   CF,RW,ST   Argentina              94         94  ...   \n",
       "1        76.2  CAM,RM,CM     Denmark              88         89  ...   \n",
       "2        83.9     CM,CAM      France              88         91  ...   \n",
       "3        59.0      LW,ST       Italy              88         88  ...   \n",
       "4        88.9         CB     Senegal              88         91  ...   \n",
       "\n",
       "   long_shots  aggression interceptions  positioning  vision  penalties  \\\n",
       "0          94          48            22           94      94         75   \n",
       "1          89          46            56           84      91         67   \n",
       "2          82          78            64           82      88         82   \n",
       "3          84          34            26           83      87         61   \n",
       "4          15          87            88           24      49         33   \n",
       "\n",
       "  composure  marking standing_tackle  sliding_tackle  \n",
       "0        96       33              28              26  \n",
       "1        88       59              57              22  \n",
       "2        87       63              67              67  \n",
       "3        83       51              24              22  \n",
       "4        80       91              88              87  \n",
       "\n",
       "[5 rows x 51 columns]"
      ]
     },
     "execution_count": 6,
     "metadata": {},
     "output_type": "execute_result"
    }
   ],
   "source": [
    "#First 5 values\n",
    "data.head()"
   ]
  },
  {
   "cell_type": "markdown",
   "metadata": {},
   "source": [
    "## Data Pre-Processing"
   ]
  },
  {
   "cell_type": "code",
   "execution_count": 7,
   "metadata": {},
   "outputs": [
    {
     "data": {
      "text/plain": [
       "name                                 0\n",
       "full_name                            0\n",
       "birth_date                           0\n",
       "age                                  0\n",
       "height_cm                            0\n",
       "weight_kgs                           0\n",
       "positions                            0\n",
       "nationality                          0\n",
       "overall_rating                       0\n",
       "potential                            0\n",
       "value_euro                         255\n",
       "wage_euro                          246\n",
       "preferred_foot                       0\n",
       "international_reputation(1-5)        0\n",
       "weak_foot(1-5)                       0\n",
       "skill_moves(1-5)                     0\n",
       "body_type                            0\n",
       "release_clause_euro               1837\n",
       "national_team                    17097\n",
       "national_rating                  17097\n",
       "national_team_position           17097\n",
       "national_jersey_number           17097\n",
       "crossing                             0\n",
       "finishing                            0\n",
       "heading_accuracy                     0\n",
       "short_passing                        0\n",
       "volleys                              0\n",
       "dribbling                            0\n",
       "curve                                0\n",
       "freekick_accuracy                    0\n",
       "long_passing                         0\n",
       "ball_control                         0\n",
       "acceleration                         0\n",
       "sprint_speed                         0\n",
       "agility                              0\n",
       "reactions                            0\n",
       "balance                              0\n",
       "shot_power                           0\n",
       "jumping                              0\n",
       "stamina                              0\n",
       "strength                             0\n",
       "long_shots                           0\n",
       "aggression                           0\n",
       "interceptions                        0\n",
       "positioning                          0\n",
       "vision                               0\n",
       "penalties                            0\n",
       "composure                            0\n",
       "marking                              0\n",
       "standing_tackle                      0\n",
       "sliding_tackle                       0\n",
       "dtype: int64"
      ]
     },
     "execution_count": 7,
     "metadata": {},
     "output_type": "execute_result"
    }
   ],
   "source": [
    "# Missing Values\n",
    "data.isna().sum()"
   ]
  },
  {
   "cell_type": "code",
   "execution_count": 8,
   "metadata": {},
   "outputs": [
    {
     "data": {
      "text/plain": [
       "0"
      ]
     },
     "execution_count": 8,
     "metadata": {},
     "output_type": "execute_result"
    }
   ],
   "source": [
    "# Variables with too many missing values are removed from the data set\n",
    "df = data.drop(columns=[\"release_clause_euro\",\"national_team\",\"national_rating\"\n",
    "                        ,\"national_team_position\",\"national_jersey_number\"])\n",
    "\n",
    "#  Missing values in the value_euro and wage_euro variables are removed.\n",
    "df = df.dropna()\n",
    "df.isna().sum().sum()"
   ]
  },
  {
   "cell_type": "code",
   "execution_count": 9,
   "metadata": {},
   "outputs": [],
   "source": [
    "# Unnecessary variables are removed \n",
    "remove_columns = [\"name\",\"full_name\",\"birth_date\",\"body_type\"]\n",
    "\n",
    "df = df.drop(remove_columns, axis=1)\n",
    "\n",
    "#Object variables with too many unique values are removed.\n",
    "df = df.drop([\"positions\",\"nationality\"], axis=1)"
   ]
  },
  {
   "cell_type": "code",
   "execution_count": 10,
   "metadata": {},
   "outputs": [
    {
     "data": {
      "text/plain": [
       "{'top_correlated_numerical': value_euro                       1.000000\n",
       " wage_euro                        0.856466\n",
       " international_reputation(1-5)    0.644610\n",
       " overall_rating                   0.630928\n",
       " potential                        0.576341\n",
       " reactions                        0.547615\n",
       " Name: value_euro, dtype: float64,\n",
       " 'categorical_effects': preferred_foot\n",
       " Left     2.656160e+06\n",
       " Right    2.425613e+06\n",
       " Name: value_euro, dtype: float64}"
      ]
     },
     "execution_count": 10,
     "metadata": {},
     "output_type": "execute_result"
    }
   ],
   "source": [
    "# Correlation Analysis \n",
    "\n",
    "# numeric and categorical variables are selected \n",
    "numerical_columns = df.select_dtypes(include=[\"float64\",\"int64\"]).columns.tolist()\n",
    "categorical_columns = df.select_dtypes(include=[\"object\"]).columns.tolist()\n",
    "\n",
    "#The target variable is extracted from the numerical_coulumns variable.\n",
    "if 'value_euro' in numerical_columns:\n",
    "    numerical_columns.remove('value_euro')\n",
    "\n",
    "#Correlation of numerical variables with target variable\n",
    "correlation_with_target = df[numerical_columns + [\"value_euro\"]].corr()[\"value_euro\"].sort_values(ascending=False)\n",
    "\n",
    "# Top 5 high correlation \n",
    "top_correlated_numerical = correlation_with_target.head(6)\n",
    "\n",
    "# mean of the categorical variable with respect to the target variable\n",
    "\n",
    "categorical_effects = df.groupby(\"preferred_foot\")[\"value_euro\"].mean()\n",
    "\n",
    "# Printing of Results:\n",
    "{\n",
    "    \"top_correlated_numerical\": top_correlated_numerical,\n",
    "    \"categorical_effects\": categorical_effects\n",
    "}"
   ]
  },
  {
   "cell_type": "code",
   "execution_count": null,
   "metadata": {},
   "outputs": [
    {
     "data": {
      "text/plain": [
       "<BarContainer object of 2 artists>"
      ]
     },
     "execution_count": 11,
     "metadata": {},
     "output_type": "execute_result"
    },
    {
     "data": {
      "image/png": "[encoded data removed]",
      "text/plain": [
       "<Figure size 1000x600 with 1 Axes>"
      ]
     },
     "metadata": {},
     "output_type": "display_data"
    }
   ],
   "source": [
    "# Graph of the preferred foot \n",
    "plt.figure(figsize=(10, 6))\n",
    "plt.bar(categorical_effects.index, categorical_effects.values, color='skyblue')"
   ]
  },
  {
   "cell_type": "code",
   "execution_count": 12,
   "metadata": {},
   "outputs": [],
   "source": [
    "# Since there is very little difference between them, this variable is not needed in the model.\n",
    "df = df.drop(\"preferred_foot\",axis=1)"
   ]
  },
  {
   "cell_type": "code",
   "execution_count": 13,
   "metadata": {},
   "outputs": [
    {
     "data": {
      "text/plain": [
       "wage_euro                        0.856466\n",
       "international_reputation(1-5)    0.644610\n",
       "overall_rating                   0.630928\n",
       "potential                        0.576341\n",
       "reactions                        0.547615\n",
       "composure                        0.456538\n",
       "vision                           0.363445\n",
       "short_passing                    0.329467\n",
       "skill_moves(1-5)                 0.317427\n",
       "ball_control                     0.309655\n",
       "long_passing                     0.306941\n",
       "volleys                          0.291412\n",
       "curve                            0.289540\n",
       "shot_power                       0.284693\n",
       "long_shots                       0.284085\n",
       "dribbling                        0.273006\n",
       "freekick_accuracy                0.268270\n",
       "positioning                      0.262596\n",
       "finishing                        0.261003\n",
       "crossing                         0.251093\n",
       "penalties                        0.243599\n",
       "stamina                          0.216471\n",
       "agility                          0.199008\n",
       "aggression                       0.189101\n",
       "heading_accuracy                 0.188190\n",
       "sprint_speed                     0.176703\n",
       "acceleration                     0.174608\n",
       "weak_foot(1-5)                   0.167784\n",
       "interceptions                    0.142375\n",
       "strength                         0.138230\n",
       "marking                          0.138085\n",
       "jumping                          0.128507\n",
       "balance                          0.118869\n",
       "standing_tackle                  0.110455\n",
       "sliding_tackle                   0.090450\n",
       "age                              0.082360\n",
       "weight_kgs                       0.044519\n",
       "height_cm                        0.011144\n",
       "Name: value_euro, dtype: float64"
      ]
     },
     "execution_count": 13,
     "metadata": {},
     "output_type": "execute_result"
    }
   ],
   "source": [
    "# Correlation values\n",
    "correlation_with_target = correlation_with_target.drop([\"value_euro\"], axis=0)\n",
    "correlation_with_target"
   ]
  },
  {
   "cell_type": "code",
   "execution_count": 19,
   "metadata": {},
   "outputs": [
    {
     "data": {
      "image/png": "[encoded data removed]",
      "text/plain": [
       "<Figure size 1000x600 with 1 Axes>"
      ]
     },
     "metadata": {},
     "output_type": "display_data"
    }
   ],
   "source": [
    "#graph of correlation values\n",
    "plt.figure(figsize=(10, 6))\n",
    "sns.barplot(x=correlation_with_target.values, \n",
    "            y=correlation_with_target.index, \n",
    "            hue=correlation_with_target.index, \n",
    "            palette='viridis', \n",
    "            legend=False)  \n",
    "\n",
    "plt.xlabel('market value')\n",
    "plt.ylabel('Variables')\n",
    "plt.title('Correlation between Target Variable and Independent Variable')\n",
    "plt.show()\n"
   ]
  },
  {
   "cell_type": "markdown",
   "metadata": {},
   "source": [
    "## Feature Engineering"
   ]
  },
  {
   "cell_type": "code",
   "execution_count": 20,
   "metadata": {},
   "outputs": [],
   "source": [
    "#New variables are defined \n",
    "\n",
    "df[\"physic\"] = (df[\"strength\"] + df[\"sprint_speed\"] + df[\"agility\"] + df[\"reactions\"] +\n",
    "                 df[\"stamina\"] + df[\"jumping\"] + df[\"balance\"] + df[\"acceleration\"])/8\n",
    "\n",
    "df[\"defense\"] = (df[\"sliding_tackle\"] + df[\"standing_tackle\"] + df[\"interceptions\"] +\n",
    "                 df[\"marking\"] + df[\"positioning\"] + df[\"aggression\"])/6\n",
    "\n",
    "df[\"football_skills\"] = (df[\"ball_control\"] + df[\"short_passing\"] + df[\"long_passing\"] + \n",
    "                         df[\"composure\"] + df[\"vision\"] + df[\"dribbling\"])/6\n",
    "\n",
    "df[\"offansive_skills\"] = (df[\"crossing\"] + df[\"finishing\"] + df[\"long_shots\"] + df[\"volleys\"] +\n",
    "                          df[\"heading_accuracy\"])/5"
   ]
  },
  {
   "cell_type": "code",
   "execution_count": null,
   "metadata": {},
   "outputs": [],
   "source": []
  }
 ],
 "metadata": {
  "kernelspec": {
   "display_name": "Python 3",
   "language": "python",
   "name": "python3"
  },
  "language_info": {
   "codemirror_mode": {
    "name": "ipython",
    "version": 3
   },
   "file_extension": ".py",
   "mimetype": "text/x-python",
   "name": "python",
   "nbconvert_exporter": "python",
   "pygments_lexer": "ipython3",
   "version": "3.12.2"
  }
 },
 "nbformat": 4,
 "nbformat_minor": 2
}
